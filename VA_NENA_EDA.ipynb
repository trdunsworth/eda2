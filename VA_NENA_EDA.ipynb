{
  "nbformat": 4,
  "nbformat_minor": 0,
  "metadata": {
    "colab": {
      "provenance": [],
      "mount_file_id": "1DDA8Z0-vliKbZBjBjYzaRndu_7sns69p",
      "authorship_tag": "ABX9TyO+F7dIKo8W+h9C5Ff4WTDV",
      "include_colab_link": true
    },
    "kernelspec": {
      "name": "python3",
      "display_name": "Python 3"
    },
    "language_info": {
      "name": "python"
    }
  },
  "cells": [
    {
      "cell_type": "markdown",
      "metadata": {
        "id": "view-in-github",
        "colab_type": "text"
      },
      "source": [
        "<a href=\"https://colab.research.google.com/github/trdunsworth/eda2/blob/main/VA_NENA_EDA.ipynb\" target=\"_parent\"><img src=\"https://colab.research.google.com/assets/colab-badge.svg\" alt=\"Open In Colab\"/></a>"
      ]
    },
    {
      "cell_type": "code",
      "execution_count": 2,
      "metadata": {
        "colab": {
          "base_uri": "https://localhost:8080/"
        },
        "id": "FPu4-nOzRvGV",
        "outputId": "5666a9be-8b0e-499d-a579-5e833108a6c0"
      },
      "outputs": [
        {
          "output_type": "stream",
          "name": "stdout",
          "text": [
            "Requirement already satisfied: pandas in /usr/local/lib/python3.10/dist-packages (2.0.3)\n",
            "Requirement already satisfied: numpy in /usr/local/lib/python3.10/dist-packages (1.25.2)\n",
            "Requirement already satisfied: scipy in /usr/local/lib/python3.10/dist-packages (1.11.4)\n",
            "Requirement already satisfied: matplotlib in /usr/local/lib/python3.10/dist-packages (3.7.1)\n",
            "Requirement already satisfied: seaborn in /usr/local/lib/python3.10/dist-packages (0.13.1)\n",
            "Requirement already satisfied: scikit-learn in /usr/local/lib/python3.10/dist-packages (1.2.2)\n",
            "Requirement already satisfied: plotly in /usr/local/lib/python3.10/dist-packages (5.15.0)\n",
            "Requirement already satisfied: statsmodels in /usr/local/lib/python3.10/dist-packages (0.14.2)\n",
            "Requirement already satisfied: python-dateutil>=2.8.2 in /usr/local/lib/python3.10/dist-packages (from pandas) (2.8.2)\n",
            "Requirement already satisfied: pytz>=2020.1 in /usr/local/lib/python3.10/dist-packages (from pandas) (2023.4)\n",
            "Requirement already satisfied: tzdata>=2022.1 in /usr/local/lib/python3.10/dist-packages (from pandas) (2024.1)\n",
            "Requirement already satisfied: contourpy>=1.0.1 in /usr/local/lib/python3.10/dist-packages (from matplotlib) (1.2.1)\n",
            "Requirement already satisfied: cycler>=0.10 in /usr/local/lib/python3.10/dist-packages (from matplotlib) (0.12.1)\n",
            "Requirement already satisfied: fonttools>=4.22.0 in /usr/local/lib/python3.10/dist-packages (from matplotlib) (4.51.0)\n",
            "Requirement already satisfied: kiwisolver>=1.0.1 in /usr/local/lib/python3.10/dist-packages (from matplotlib) (1.4.5)\n",
            "Requirement already satisfied: packaging>=20.0 in /usr/local/lib/python3.10/dist-packages (from matplotlib) (24.0)\n",
            "Requirement already satisfied: pillow>=6.2.0 in /usr/local/lib/python3.10/dist-packages (from matplotlib) (9.4.0)\n",
            "Requirement already satisfied: pyparsing>=2.3.1 in /usr/local/lib/python3.10/dist-packages (from matplotlib) (3.1.2)\n",
            "Requirement already satisfied: joblib>=1.1.1 in /usr/local/lib/python3.10/dist-packages (from scikit-learn) (1.4.2)\n",
            "Requirement already satisfied: threadpoolctl>=2.0.0 in /usr/local/lib/python3.10/dist-packages (from scikit-learn) (3.5.0)\n",
            "Requirement already satisfied: tenacity>=6.2.0 in /usr/local/lib/python3.10/dist-packages (from plotly) (8.3.0)\n",
            "Requirement already satisfied: patsy>=0.5.6 in /usr/local/lib/python3.10/dist-packages (from statsmodels) (0.5.6)\n",
            "Requirement already satisfied: six in /usr/local/lib/python3.10/dist-packages (from patsy>=0.5.6->statsmodels) (1.16.0)\n"
          ]
        }
      ],
      "source": [
        "!pip install pandas numpy scipy matplotlib seaborn scikit-learn plotly statsmodels"
      ]
    },
    {
      "cell_type": "code",
      "source": [
        "!pip install pretty_errors"
      ],
      "metadata": {
        "colab": {
          "base_uri": "https://localhost:8080/"
        },
        "id": "SAtk3S9lYsSU",
        "outputId": "2efd1d6a-ac6f-4b57-dc48-627099184e15"
      },
      "execution_count": 3,
      "outputs": [
        {
          "output_type": "stream",
          "name": "stdout",
          "text": [
            "Collecting pretty_errors\n",
            "  Downloading pretty_errors-1.2.25-py3-none-any.whl (17 kB)\n",
            "Collecting colorama (from pretty_errors)\n",
            "  Downloading colorama-0.4.6-py2.py3-none-any.whl (25 kB)\n",
            "Installing collected packages: colorama, pretty_errors\n",
            "Successfully installed colorama-0.4.6 pretty_errors-1.2.25\n"
          ]
        }
      ]
    },
    {
      "cell_type": "code",
      "source": [
        "%matplotlib inline\n",
        "\n",
        "import os\n",
        "import sys\n",
        "import numbers\n",
        "import math\n",
        "import warnings\n",
        "warnings.simplefilter(action='ignore', category=FutureWarning)\n",
        "import datetime as dt\n",
        "import pandas as pd\n",
        "import numpy as np\n",
        "from scipy import stats as ss\n",
        "from scipy.stats import normaltest as norm\n",
        "from matplotlib import pyplot as plt\n",
        "import seaborn as sns\n",
        "import statsmodels.api as sm\n",
        "from statsmodels.graphics.gofplots import qqplot\n",
        "import pretty_errors"
      ],
      "metadata": {
        "id": "HufDBgUiY1z7"
      },
      "execution_count": 4,
      "outputs": []
    },
    {
      "cell_type": "code",
      "source": [
        "pretty_errors.configure(\n",
        "    separator_character=\"*\",\n",
        "    line_number_first=1,\n",
        "    display_link=1,\n",
        "    line_color=pretty_errors.BRIGHT_RED\n",
        "    + \"> \"\n",
        "    + pretty_errors.default_config.line_color,\n",
        "    exception_color=pretty_errors.BRIGHT_MAGENTA,\n",
        "    exception_arg_color=pretty_errors.CYAN,\n",
        "    exception_file_color=pretty_errors.RED_BACKGROUND + pretty_errors.BRIGHT_WHITE,\n",
        "    code_color=\"  \" + pretty_errors.default_config.line_color,\n",
        "    display_timestamp=1,\n",
        "    timestamp_function=lambda: datetime.datetime.now().strftime(\"%Y-%m-%d %H:%M:%S\"),\n",
        "    lines_before=5,\n",
        "    lines_after=2,\n",
        "    stack_depth=1,\n",
        "    display_locals=1,  # Enable the display of local variables\n",
        "    line_length=80\n",
        ")"
      ],
      "metadata": {
        "id": "-z3qlVBKZCbz"
      },
      "execution_count": 5,
      "outputs": []
    },
    {
      "cell_type": "code",
      "source": [
        "\"\"\"\n",
        "This code sets display and formatting parameters for the notebook\n",
        "For example: floats, numbers with a decimal point, will only show 2 values behind the decimal\n",
        "There is a column wrap at 80 characters and this will only display 8 columns of multicolumn output\n",
        "\"\"\"\n",
        "pd.options.display.float_format = '{:,.2f}'.format\n",
        "pd.set_option('display.width', 80)\n",
        "pd.set_option('display.max_columns', 12)"
      ],
      "metadata": {
        "id": "EmrlD_2CZ1KM"
      },
      "execution_count": 6,
      "outputs": []
    },
    {
      "cell_type": "code",
      "source": [
        "df = pd.read_csv(\"/content/drive/MyDrive/synthetic_date/synth.csv\")"
      ],
      "metadata": {
        "id": "YgY8Xj0jbMb4"
      },
      "execution_count": 7,
      "outputs": []
    }
  ]
}