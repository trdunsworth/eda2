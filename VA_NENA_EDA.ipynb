{
  "cells": [
    {
      "cell_type": "markdown",
      "metadata": {
        "id": "view-in-github",
        "colab_type": "text"
      },
      "source": [
        "<a href=\"https://colab.research.google.com/github/trdunsworth/eda2/blob/main/VA_NENA_EDA.ipynb\" target=\"_parent\"><img src=\"https://colab.research.google.com/assets/colab-badge.svg\" alt=\"Open In Colab\"/></a>"
      ]
    },
    {
      "cell_type": "code",
      "execution_count": null,
      "metadata": {
        "colab": {
          "base_uri": "https://localhost:8080/"
        },
        "id": "FPu4-nOzRvGV",
        "outputId": "3a8644bc-c574-4249-f080-2d787cf3a619"
      },
      "outputs": [
        {
          "output_type": "stream",
          "name": "stdout",
          "text": [
            "Requirement already satisfied: pandas in /usr/local/lib/python3.10/dist-packages (2.0.3)\n",
            "Requirement already satisfied: numpy in /usr/local/lib/python3.10/dist-packages (1.25.2)\n",
            "Requirement already satisfied: scipy in /usr/local/lib/python3.10/dist-packages (1.11.4)\n",
            "Requirement already satisfied: matplotlib in /usr/local/lib/python3.10/dist-packages (3.7.1)\n",
            "Requirement already satisfied: seaborn in /usr/local/lib/python3.10/dist-packages (0.13.1)\n",
            "Requirement already satisfied: scikit-learn in /usr/local/lib/python3.10/dist-packages (1.2.2)\n",
            "Requirement already satisfied: plotly in /usr/local/lib/python3.10/dist-packages (5.15.0)\n",
            "Requirement already satisfied: statsmodels in /usr/local/lib/python3.10/dist-packages (0.14.2)\n",
            "Collecting pretty_errors\n",
            "  Downloading pretty_errors-1.2.25-py3-none-any.whl (17 kB)\n",
            "Requirement already satisfied: python-dateutil>=2.8.2 in /usr/local/lib/python3.10/dist-packages (from pandas) (2.8.2)\n",
            "Requirement already satisfied: pytz>=2020.1 in /usr/local/lib/python3.10/dist-packages (from pandas) (2023.4)\n",
            "Requirement already satisfied: tzdata>=2022.1 in /usr/local/lib/python3.10/dist-packages (from pandas) (2024.1)\n",
            "Requirement already satisfied: contourpy>=1.0.1 in /usr/local/lib/python3.10/dist-packages (from matplotlib) (1.2.1)\n",
            "Requirement already satisfied: cycler>=0.10 in /usr/local/lib/python3.10/dist-packages (from matplotlib) (0.12.1)\n",
            "Requirement already satisfied: fonttools>=4.22.0 in /usr/local/lib/python3.10/dist-packages (from matplotlib) (4.51.0)\n",
            "Requirement already satisfied: kiwisolver>=1.0.1 in /usr/local/lib/python3.10/dist-packages (from matplotlib) (1.4.5)\n",
            "Requirement already satisfied: packaging>=20.0 in /usr/local/lib/python3.10/dist-packages (from matplotlib) (24.0)\n",
            "Requirement already satisfied: pillow>=6.2.0 in /usr/local/lib/python3.10/dist-packages (from matplotlib) (9.4.0)\n",
            "Requirement already satisfied: pyparsing>=2.3.1 in /usr/local/lib/python3.10/dist-packages (from matplotlib) (3.1.2)\n",
            "Requirement already satisfied: joblib>=1.1.1 in /usr/local/lib/python3.10/dist-packages (from scikit-learn) (1.4.2)\n",
            "Requirement already satisfied: threadpoolctl>=2.0.0 in /usr/local/lib/python3.10/dist-packages (from scikit-learn) (3.5.0)\n",
            "Requirement already satisfied: tenacity>=6.2.0 in /usr/local/lib/python3.10/dist-packages (from plotly) (8.3.0)\n",
            "Requirement already satisfied: patsy>=0.5.6 in /usr/local/lib/python3.10/dist-packages (from statsmodels) (0.5.6)\n",
            "Collecting colorama (from pretty_errors)\n",
            "  Downloading colorama-0.4.6-py2.py3-none-any.whl (25 kB)\n",
            "Requirement already satisfied: six in /usr/local/lib/python3.10/dist-packages (from patsy>=0.5.6->statsmodels) (1.16.0)\n",
            "Installing collected packages: colorama, pretty_errors\n",
            "Successfully installed colorama-0.4.6 pretty_errors-1.2.25\n"
          ]
        }
      ],
      "source": [
        "!pip install pandas numpy scipy matplotlib seaborn scikit-learn plotly statsmodels pretty_errors"
      ]
    },
    {
      "cell_type": "code",
      "execution_count": null,
      "metadata": {
        "id": "HufDBgUiY1z7"
      },
      "outputs": [],
      "source": [
        "%matplotlib inline\n",
        "\n",
        "import os\n",
        "import sys\n",
        "import numbers\n",
        "import math\n",
        "import warnings\n",
        "warnings.simplefilter(action='ignore', category=FutureWarning)\n",
        "import datetime as dt\n",
        "import pandas as pd\n",
        "import numpy as np\n",
        "from scipy import stats as ss\n",
        "from scipy.stats import normaltest as norm\n",
        "from matplotlib import pyplot as plt\n",
        "import seaborn as sns\n",
        "import statsmodels.api as sm\n",
        "from statsmodels.graphics.gofplots import qqplot\n",
        "import pretty_errors"
      ]
    },
    {
      "cell_type": "code",
      "execution_count": null,
      "metadata": {
        "id": "-z3qlVBKZCbz"
      },
      "outputs": [],
      "source": [
        "pretty_errors.configure(\n",
        "    separator_character=\"*\",\n",
        "    line_number_first=1,\n",
        "    display_link=1,\n",
        "    line_color=pretty_errors.BRIGHT_RED\n",
        "    + \"> \"\n",
        "    + pretty_errors.default_config.line_color,\n",
        "    exception_color=pretty_errors.BRIGHT_MAGENTA,\n",
        "    exception_arg_color=pretty_errors.CYAN,\n",
        "    exception_file_color=pretty_errors.RED_BACKGROUND + pretty_errors.BRIGHT_WHITE,\n",
        "    code_color=\"  \" + pretty_errors.default_config.line_color,\n",
        "    display_timestamp=1,\n",
        "    timestamp_function=lambda: datetime.datetime.now().strftime(\"%Y-%m-%d %H:%M:%S\"),\n",
        "    lines_before=5,\n",
        "    lines_after=2,\n",
        "    stack_depth=1,\n",
        "    display_locals=1,  # Enable the display of local variables\n",
        "    line_length=80\n",
        ")"
      ]
    },
    {
      "cell_type": "code",
      "execution_count": null,
      "metadata": {
        "id": "EmrlD_2CZ1KM"
      },
      "outputs": [],
      "source": [
        "\"\"\"\n",
        "This code sets display and formatting parameters for the notebook\n",
        "For example: floats, numbers with a decimal point, will only show 2 values behind the decimal\n",
        "There is a column wrap at 80 characters and this will only display 8 columns of multicolumn output\n",
        "\"\"\"\n",
        "pd.options.display.float_format = '{:,.2f}'.format\n",
        "pd.set_option('display.width', 80)\n",
        "pd.set_option('display.max_columns', 12)"
      ]
    },
    {
      "cell_type": "code",
      "execution_count": null,
      "metadata": {
        "id": "YgY8Xj0jbMb4"
      },
      "outputs": [],
      "source": [
        "df = pd.read_csv(\"/content/drive/MyDrive/synthetic_date/synth.csv\")"
      ]
    },
    {
      "cell_type": "code",
      "source": [
        "df.info()"
      ],
      "metadata": {
        "colab": {
          "base_uri": "https://localhost:8080/"
        },
        "id": "iLjTkrSaFMGa",
        "outputId": "4bdc7c62-646d-4e8b-d731-6839abbde73d"
      },
      "execution_count": null,
      "outputs": [
        {
          "output_type": "stream",
          "name": "stdout",
          "text": [
            "<class 'pandas.core.frame.DataFrame'>\n",
            "RangeIndex: 10000 entries, 0 to 9999\n",
            "Data columns (total 15 columns):\n",
            " #   Column            Non-Null Count  Dtype \n",
            "---  ------            --------------  ----- \n",
            " 0   Response_Date     10000 non-null  object\n",
            " 1   Week No           10000 non-null  int64 \n",
            " 2   Hour              10000 non-null  int64 \n",
            " 3   Day               10000 non-null  int64 \n",
            " 4   DOW               10000 non-null  object\n",
            " 5   Agency            10000 non-null  object\n",
            " 6   Problem           10000 non-null  object\n",
            " 7   Priority_Number   10000 non-null  int64 \n",
            " 8   Call_Reception    10000 non-null  object\n",
            " 9   Call_Disposition  10000 non-null  object\n",
            " 10  TimeToQueue       10000 non-null  int64 \n",
            " 11  TimeToDispatch    10000 non-null  int64 \n",
            " 12  CallProcessTime   10000 non-null  int64 \n",
            " 13  PhoneTime         10000 non-null  int64 \n",
            " 14  EventTime         10000 non-null  int64 \n",
            "dtypes: int64(9), object(6)\n",
            "memory usage: 1.1+ MB\n"
          ]
        }
      ]
    },
    {
      "cell_type": "code",
      "execution_count": null,
      "metadata": {
        "colab": {
          "base_uri": "https://localhost:8080/",
          "height": 519
        },
        "id": "ue5Ukrn1cGd9",
        "outputId": "f263e645-3124-499e-9155-2fe0d4449e61"
      },
      "outputs": [
        {
          "output_type": "execute_result",
          "data": {
            "text/plain": [
              "                                       0                     1  \\\n",
              "Response_Date            1/14/2024 00:51       1/14/2024 00:53   \n",
              "Week No                                3                     3   \n",
              "Hour                                   0                     0   \n",
              "Day                                   14                    14   \n",
              "DOW                                  SUN                   SUN   \n",
              "Agency                            POLICE                POLICE   \n",
              "Problem           TROUBLE UNKNOWN NO EMS  DOMESTIC VIOL NO INJ   \n",
              "Priority_Number                        2                     2   \n",
              "Call_Reception                     E-911                 E-911   \n",
              "Call_Disposition            NR-No Report          NR-No Report   \n",
              "TimeToQueue                          141                    43   \n",
              "TimeToDispatch                       107                    68   \n",
              "CallProcessTime                      248                   111   \n",
              "PhoneTime                            108                    81   \n",
              "EventTime                            695                  1592   \n",
              "\n",
              "                                   2                3                 4  \n",
              "Response_Date        1/14/2024 00:53  1/14/2024 00:53   1/14/2024 00:53  \n",
              "Week No                            3                3                 3  \n",
              "Hour                               0                0                 0  \n",
              "Day                               14               14                14  \n",
              "DOW                              SUN              SUN               SUN  \n",
              "Agency                        POLICE           POLICE            POLICE  \n",
              "Problem           DISORDERLY CONDUCT           _RARE_  SUSPICIOUS EVENT  \n",
              "Priority_Number                    2                2                 2  \n",
              "Call_Reception                 E-911            E-911             Phone  \n",
              "Call_Disposition           RE-Report        RE-Report      NR-No Report  \n",
              "TimeToQueue                       43              119                20  \n",
              "TimeToDispatch                    43               50                58  \n",
              "CallProcessTime                   86              169                78  \n",
              "PhoneTime                         83              104                88  \n",
              "EventTime                      19682            10535               114  "
            ],
            "text/html": [
              "\n",
              "  <div id=\"df-6eea9ad5-bfa8-4271-b10d-29e923c45432\" class=\"colab-df-container\">\n",
              "    <div>\n",
              "<style scoped>\n",
              "    .dataframe tbody tr th:only-of-type {\n",
              "        vertical-align: middle;\n",
              "    }\n",
              "\n",
              "    .dataframe tbody tr th {\n",
              "        vertical-align: top;\n",
              "    }\n",
              "\n",
              "    .dataframe thead th {\n",
              "        text-align: right;\n",
              "    }\n",
              "</style>\n",
              "<table border=\"1\" class=\"dataframe\">\n",
              "  <thead>\n",
              "    <tr style=\"text-align: right;\">\n",
              "      <th></th>\n",
              "      <th>0</th>\n",
              "      <th>1</th>\n",
              "      <th>2</th>\n",
              "      <th>3</th>\n",
              "      <th>4</th>\n",
              "    </tr>\n",
              "  </thead>\n",
              "  <tbody>\n",
              "    <tr>\n",
              "      <th>Response_Date</th>\n",
              "      <td>1/14/2024 00:51</td>\n",
              "      <td>1/14/2024 00:53</td>\n",
              "      <td>1/14/2024 00:53</td>\n",
              "      <td>1/14/2024 00:53</td>\n",
              "      <td>1/14/2024 00:53</td>\n",
              "    </tr>\n",
              "    <tr>\n",
              "      <th>Week No</th>\n",
              "      <td>3</td>\n",
              "      <td>3</td>\n",
              "      <td>3</td>\n",
              "      <td>3</td>\n",
              "      <td>3</td>\n",
              "    </tr>\n",
              "    <tr>\n",
              "      <th>Hour</th>\n",
              "      <td>0</td>\n",
              "      <td>0</td>\n",
              "      <td>0</td>\n",
              "      <td>0</td>\n",
              "      <td>0</td>\n",
              "    </tr>\n",
              "    <tr>\n",
              "      <th>Day</th>\n",
              "      <td>14</td>\n",
              "      <td>14</td>\n",
              "      <td>14</td>\n",
              "      <td>14</td>\n",
              "      <td>14</td>\n",
              "    </tr>\n",
              "    <tr>\n",
              "      <th>DOW</th>\n",
              "      <td>SUN</td>\n",
              "      <td>SUN</td>\n",
              "      <td>SUN</td>\n",
              "      <td>SUN</td>\n",
              "      <td>SUN</td>\n",
              "    </tr>\n",
              "    <tr>\n",
              "      <th>Agency</th>\n",
              "      <td>POLICE</td>\n",
              "      <td>POLICE</td>\n",
              "      <td>POLICE</td>\n",
              "      <td>POLICE</td>\n",
              "      <td>POLICE</td>\n",
              "    </tr>\n",
              "    <tr>\n",
              "      <th>Problem</th>\n",
              "      <td>TROUBLE UNKNOWN NO EMS</td>\n",
              "      <td>DOMESTIC VIOL NO INJ</td>\n",
              "      <td>DISORDERLY CONDUCT</td>\n",
              "      <td>_RARE_</td>\n",
              "      <td>SUSPICIOUS EVENT</td>\n",
              "    </tr>\n",
              "    <tr>\n",
              "      <th>Priority_Number</th>\n",
              "      <td>2</td>\n",
              "      <td>2</td>\n",
              "      <td>2</td>\n",
              "      <td>2</td>\n",
              "      <td>2</td>\n",
              "    </tr>\n",
              "    <tr>\n",
              "      <th>Call_Reception</th>\n",
              "      <td>E-911</td>\n",
              "      <td>E-911</td>\n",
              "      <td>E-911</td>\n",
              "      <td>E-911</td>\n",
              "      <td>Phone</td>\n",
              "    </tr>\n",
              "    <tr>\n",
              "      <th>Call_Disposition</th>\n",
              "      <td>NR-No Report</td>\n",
              "      <td>NR-No Report</td>\n",
              "      <td>RE-Report</td>\n",
              "      <td>RE-Report</td>\n",
              "      <td>NR-No Report</td>\n",
              "    </tr>\n",
              "    <tr>\n",
              "      <th>TimeToQueue</th>\n",
              "      <td>141</td>\n",
              "      <td>43</td>\n",
              "      <td>43</td>\n",
              "      <td>119</td>\n",
              "      <td>20</td>\n",
              "    </tr>\n",
              "    <tr>\n",
              "      <th>TimeToDispatch</th>\n",
              "      <td>107</td>\n",
              "      <td>68</td>\n",
              "      <td>43</td>\n",
              "      <td>50</td>\n",
              "      <td>58</td>\n",
              "    </tr>\n",
              "    <tr>\n",
              "      <th>CallProcessTime</th>\n",
              "      <td>248</td>\n",
              "      <td>111</td>\n",
              "      <td>86</td>\n",
              "      <td>169</td>\n",
              "      <td>78</td>\n",
              "    </tr>\n",
              "    <tr>\n",
              "      <th>PhoneTime</th>\n",
              "      <td>108</td>\n",
              "      <td>81</td>\n",
              "      <td>83</td>\n",
              "      <td>104</td>\n",
              "      <td>88</td>\n",
              "    </tr>\n",
              "    <tr>\n",
              "      <th>EventTime</th>\n",
              "      <td>695</td>\n",
              "      <td>1592</td>\n",
              "      <td>19682</td>\n",
              "      <td>10535</td>\n",
              "      <td>114</td>\n",
              "    </tr>\n",
              "  </tbody>\n",
              "</table>\n",
              "</div>\n",
              "    <div class=\"colab-df-buttons\">\n",
              "\n",
              "  <div class=\"colab-df-container\">\n",
              "    <button class=\"colab-df-convert\" onclick=\"convertToInteractive('df-6eea9ad5-bfa8-4271-b10d-29e923c45432')\"\n",
              "            title=\"Convert this dataframe to an interactive table.\"\n",
              "            style=\"display:none;\">\n",
              "\n",
              "  <svg xmlns=\"http://www.w3.org/2000/svg\" height=\"24px\" viewBox=\"0 -960 960 960\">\n",
              "    <path d=\"M120-120v-720h720v720H120Zm60-500h600v-160H180v160Zm220 220h160v-160H400v160Zm0 220h160v-160H400v160ZM180-400h160v-160H180v160Zm440 0h160v-160H620v160ZM180-180h160v-160H180v160Zm440 0h160v-160H620v160Z\"/>\n",
              "  </svg>\n",
              "    </button>\n",
              "\n",
              "  <style>\n",
              "    .colab-df-container {\n",
              "      display:flex;\n",
              "      gap: 12px;\n",
              "    }\n",
              "\n",
              "    .colab-df-convert {\n",
              "      background-color: #E8F0FE;\n",
              "      border: none;\n",
              "      border-radius: 50%;\n",
              "      cursor: pointer;\n",
              "      display: none;\n",
              "      fill: #1967D2;\n",
              "      height: 32px;\n",
              "      padding: 0 0 0 0;\n",
              "      width: 32px;\n",
              "    }\n",
              "\n",
              "    .colab-df-convert:hover {\n",
              "      background-color: #E2EBFA;\n",
              "      box-shadow: 0px 1px 2px rgba(60, 64, 67, 0.3), 0px 1px 3px 1px rgba(60, 64, 67, 0.15);\n",
              "      fill: #174EA6;\n",
              "    }\n",
              "\n",
              "    .colab-df-buttons div {\n",
              "      margin-bottom: 4px;\n",
              "    }\n",
              "\n",
              "    [theme=dark] .colab-df-convert {\n",
              "      background-color: #3B4455;\n",
              "      fill: #D2E3FC;\n",
              "    }\n",
              "\n",
              "    [theme=dark] .colab-df-convert:hover {\n",
              "      background-color: #434B5C;\n",
              "      box-shadow: 0px 1px 3px 1px rgba(0, 0, 0, 0.15);\n",
              "      filter: drop-shadow(0px 1px 2px rgba(0, 0, 0, 0.3));\n",
              "      fill: #FFFFFF;\n",
              "    }\n",
              "  </style>\n",
              "\n",
              "    <script>\n",
              "      const buttonEl =\n",
              "        document.querySelector('#df-6eea9ad5-bfa8-4271-b10d-29e923c45432 button.colab-df-convert');\n",
              "      buttonEl.style.display =\n",
              "        google.colab.kernel.accessAllowed ? 'block' : 'none';\n",
              "\n",
              "      async function convertToInteractive(key) {\n",
              "        const element = document.querySelector('#df-6eea9ad5-bfa8-4271-b10d-29e923c45432');\n",
              "        const dataTable =\n",
              "          await google.colab.kernel.invokeFunction('convertToInteractive',\n",
              "                                                    [key], {});\n",
              "        if (!dataTable) return;\n",
              "\n",
              "        const docLinkHtml = 'Like what you see? Visit the ' +\n",
              "          '<a target=\"_blank\" href=https://colab.research.google.com/notebooks/data_table.ipynb>data table notebook</a>'\n",
              "          + ' to learn more about interactive tables.';\n",
              "        element.innerHTML = '';\n",
              "        dataTable['output_type'] = 'display_data';\n",
              "        await google.colab.output.renderOutput(dataTable, element);\n",
              "        const docLink = document.createElement('div');\n",
              "        docLink.innerHTML = docLinkHtml;\n",
              "        element.appendChild(docLink);\n",
              "      }\n",
              "    </script>\n",
              "  </div>\n",
              "\n",
              "\n",
              "<div id=\"df-23759ae8-6055-4007-81f1-f86b2a692692\">\n",
              "  <button class=\"colab-df-quickchart\" onclick=\"quickchart('df-23759ae8-6055-4007-81f1-f86b2a692692')\"\n",
              "            title=\"Suggest charts\"\n",
              "            style=\"display:none;\">\n",
              "\n",
              "<svg xmlns=\"http://www.w3.org/2000/svg\" height=\"24px\"viewBox=\"0 0 24 24\"\n",
              "     width=\"24px\">\n",
              "    <g>\n",
              "        <path d=\"M19 3H5c-1.1 0-2 .9-2 2v14c0 1.1.9 2 2 2h14c1.1 0 2-.9 2-2V5c0-1.1-.9-2-2-2zM9 17H7v-7h2v7zm4 0h-2V7h2v10zm4 0h-2v-4h2v4z\"/>\n",
              "    </g>\n",
              "</svg>\n",
              "  </button>\n",
              "\n",
              "<style>\n",
              "  .colab-df-quickchart {\n",
              "      --bg-color: #E8F0FE;\n",
              "      --fill-color: #1967D2;\n",
              "      --hover-bg-color: #E2EBFA;\n",
              "      --hover-fill-color: #174EA6;\n",
              "      --disabled-fill-color: #AAA;\n",
              "      --disabled-bg-color: #DDD;\n",
              "  }\n",
              "\n",
              "  [theme=dark] .colab-df-quickchart {\n",
              "      --bg-color: #3B4455;\n",
              "      --fill-color: #D2E3FC;\n",
              "      --hover-bg-color: #434B5C;\n",
              "      --hover-fill-color: #FFFFFF;\n",
              "      --disabled-bg-color: #3B4455;\n",
              "      --disabled-fill-color: #666;\n",
              "  }\n",
              "\n",
              "  .colab-df-quickchart {\n",
              "    background-color: var(--bg-color);\n",
              "    border: none;\n",
              "    border-radius: 50%;\n",
              "    cursor: pointer;\n",
              "    display: none;\n",
              "    fill: var(--fill-color);\n",
              "    height: 32px;\n",
              "    padding: 0;\n",
              "    width: 32px;\n",
              "  }\n",
              "\n",
              "  .colab-df-quickchart:hover {\n",
              "    background-color: var(--hover-bg-color);\n",
              "    box-shadow: 0 1px 2px rgba(60, 64, 67, 0.3), 0 1px 3px 1px rgba(60, 64, 67, 0.15);\n",
              "    fill: var(--button-hover-fill-color);\n",
              "  }\n",
              "\n",
              "  .colab-df-quickchart-complete:disabled,\n",
              "  .colab-df-quickchart-complete:disabled:hover {\n",
              "    background-color: var(--disabled-bg-color);\n",
              "    fill: var(--disabled-fill-color);\n",
              "    box-shadow: none;\n",
              "  }\n",
              "\n",
              "  .colab-df-spinner {\n",
              "    border: 2px solid var(--fill-color);\n",
              "    border-color: transparent;\n",
              "    border-bottom-color: var(--fill-color);\n",
              "    animation:\n",
              "      spin 1s steps(1) infinite;\n",
              "  }\n",
              "\n",
              "  @keyframes spin {\n",
              "    0% {\n",
              "      border-color: transparent;\n",
              "      border-bottom-color: var(--fill-color);\n",
              "      border-left-color: var(--fill-color);\n",
              "    }\n",
              "    20% {\n",
              "      border-color: transparent;\n",
              "      border-left-color: var(--fill-color);\n",
              "      border-top-color: var(--fill-color);\n",
              "    }\n",
              "    30% {\n",
              "      border-color: transparent;\n",
              "      border-left-color: var(--fill-color);\n",
              "      border-top-color: var(--fill-color);\n",
              "      border-right-color: var(--fill-color);\n",
              "    }\n",
              "    40% {\n",
              "      border-color: transparent;\n",
              "      border-right-color: var(--fill-color);\n",
              "      border-top-color: var(--fill-color);\n",
              "    }\n",
              "    60% {\n",
              "      border-color: transparent;\n",
              "      border-right-color: var(--fill-color);\n",
              "    }\n",
              "    80% {\n",
              "      border-color: transparent;\n",
              "      border-right-color: var(--fill-color);\n",
              "      border-bottom-color: var(--fill-color);\n",
              "    }\n",
              "    90% {\n",
              "      border-color: transparent;\n",
              "      border-bottom-color: var(--fill-color);\n",
              "    }\n",
              "  }\n",
              "</style>\n",
              "\n",
              "  <script>\n",
              "    async function quickchart(key) {\n",
              "      const quickchartButtonEl =\n",
              "        document.querySelector('#' + key + ' button');\n",
              "      quickchartButtonEl.disabled = true;  // To prevent multiple clicks.\n",
              "      quickchartButtonEl.classList.add('colab-df-spinner');\n",
              "      try {\n",
              "        const charts = await google.colab.kernel.invokeFunction(\n",
              "            'suggestCharts', [key], {});\n",
              "      } catch (error) {\n",
              "        console.error('Error during call to suggestCharts:', error);\n",
              "      }\n",
              "      quickchartButtonEl.classList.remove('colab-df-spinner');\n",
              "      quickchartButtonEl.classList.add('colab-df-quickchart-complete');\n",
              "    }\n",
              "    (() => {\n",
              "      let quickchartButtonEl =\n",
              "        document.querySelector('#df-23759ae8-6055-4007-81f1-f86b2a692692 button');\n",
              "      quickchartButtonEl.style.display =\n",
              "        google.colab.kernel.accessAllowed ? 'block' : 'none';\n",
              "    })();\n",
              "  </script>\n",
              "</div>\n",
              "\n",
              "    </div>\n",
              "  </div>\n"
            ],
            "application/vnd.google.colaboratory.intrinsic+json": {
              "type": "dataframe",
              "variable_name": "df",
              "summary": "{\n  \"name\": \"df\",\n  \"rows\": 10000,\n  \"fields\": [\n    {\n      \"column\": \"Response_Date\",\n      \"properties\": {\n        \"dtype\": \"object\",\n        \"num_unique_values\": 8631,\n        \"samples\": [\n          \"4/14/2024 13:49\",\n          \"2/13/2024 13:45\",\n          \"2/13/2024 04:03\"\n        ],\n        \"semantic_type\": \"\",\n        \"description\": \"\"\n      }\n    },\n    {\n      \"column\": \"Week No\",\n      \"properties\": {\n        \"dtype\": \"number\",\n        \"std\": 4,\n        \"min\": 3,\n        \"max\": 16,\n        \"num_unique_values\": 8,\n        \"samples\": [\n          6,\n          12,\n          3\n        ],\n        \"semantic_type\": \"\",\n        \"description\": \"\"\n      }\n    },\n    {\n      \"column\": \"Hour\",\n      \"properties\": {\n        \"dtype\": \"number\",\n        \"std\": 6,\n        \"min\": 0,\n        \"max\": 23,\n        \"num_unique_values\": 24,\n        \"samples\": [\n          8,\n          16,\n          0\n        ],\n        \"semantic_type\": \"\",\n        \"description\": \"\"\n      }\n    },\n    {\n      \"column\": \"Day\",\n      \"properties\": {\n        \"dtype\": \"number\",\n        \"std\": 2,\n        \"min\": 10,\n        \"max\": 20,\n        \"num_unique_values\": 11,\n        \"samples\": [\n          19,\n          14,\n          12\n        ],\n        \"semantic_type\": \"\",\n        \"description\": \"\"\n      }\n    },\n    {\n      \"column\": \"DOW\",\n      \"properties\": {\n        \"dtype\": \"category\",\n        \"num_unique_values\": 7,\n        \"samples\": [\n          \"SUN\",\n          \"MON\",\n          \"FRI\"\n        ],\n        \"semantic_type\": \"\",\n        \"description\": \"\"\n      }\n    },\n    {\n      \"column\": \"Agency\",\n      \"properties\": {\n        \"dtype\": \"category\",\n        \"num_unique_values\": 3,\n        \"samples\": [\n          \"POLICE\",\n          \"EMS\",\n          \"FIRE\"\n        ],\n        \"semantic_type\": \"\",\n        \"description\": \"\"\n      }\n    },\n    {\n      \"column\": \"Problem\",\n      \"properties\": {\n        \"dtype\": \"category\",\n        \"num_unique_values\": 140,\n        \"samples\": [\n          \"ANIMAL STRAY\",\n          \"DRUG COMPLAINT DELAY\",\n          \"ROBBERY FROM PERSON IN PROG\"\n        ],\n        \"semantic_type\": \"\",\n        \"description\": \"\"\n      }\n    },\n    {\n      \"column\": \"Priority_Number\",\n      \"properties\": {\n        \"dtype\": \"number\",\n        \"std\": 1,\n        \"min\": 1,\n        \"max\": 10,\n        \"num_unique_values\": 7,\n        \"samples\": [\n          2,\n          4,\n          8\n        ],\n        \"semantic_type\": \"\",\n        \"description\": \"\"\n      }\n    },\n    {\n      \"column\": \"Call_Reception\",\n      \"properties\": {\n        \"dtype\": \"category\",\n        \"num_unique_values\": 10,\n        \"samples\": [\n          \"_RARE_\",\n          \"Phone\",\n          \"NOT CAPTURED\"\n        ],\n        \"semantic_type\": \"\",\n        \"description\": \"\"\n      }\n    },\n    {\n      \"column\": \"Call_Disposition\",\n      \"properties\": {\n        \"dtype\": \"category\",\n        \"num_unique_values\": 14,\n        \"samples\": [\n          \"DUPPD-Duplicate Police\",\n          \"RAF-Reassign FD Call\",\n          \"NR-No Report\"\n        ],\n        \"semantic_type\": \"\",\n        \"description\": \"\"\n      }\n    },\n    {\n      \"column\": \"TimeToQueue\",\n      \"properties\": {\n        \"dtype\": \"number\",\n        \"std\": 5420,\n        \"min\": 0,\n        \"max\": 100685,\n        \"num_unique_values\": 744,\n        \"samples\": [\n          3617,\n          61973,\n          357\n        ],\n        \"semantic_type\": \"\",\n        \"description\": \"\"\n      }\n    },\n    {\n      \"column\": \"TimeToDispatch\",\n      \"properties\": {\n        \"dtype\": \"number\",\n        \"std\": 5024,\n        \"min\": 1,\n        \"max\": 84173,\n        \"num_unique_values\": 1794,\n        \"samples\": [\n          918,\n          252,\n          7321\n        ],\n        \"semantic_type\": \"\",\n        \"description\": \"\"\n      }\n    },\n    {\n      \"column\": \"CallProcessTime\",\n      \"properties\": {\n        \"dtype\": \"number\",\n        \"std\": 8056,\n        \"min\": 2,\n        \"max\": 176583,\n        \"num_unique_values\": 2104,\n        \"samples\": [\n          20,\n          619,\n          9842\n        ],\n        \"semantic_type\": \"\",\n        \"description\": \"\"\n      }\n    },\n    {\n      \"column\": \"PhoneTime\",\n      \"properties\": {\n        \"dtype\": \"number\",\n        \"std\": 509,\n        \"min\": 0,\n        \"max\": 6121,\n        \"num_unique_values\": 1297,\n        \"samples\": [\n          407,\n          842,\n          686\n        ],\n        \"semantic_type\": \"\",\n        \"description\": \"\"\n      }\n    },\n    {\n      \"column\": \"EventTime\",\n      \"properties\": {\n        \"dtype\": \"number\",\n        \"std\": 12031,\n        \"min\": 5,\n        \"max\": 143560,\n        \"num_unique_values\": 6584,\n        \"samples\": [\n          17550,\n          8509,\n          4819\n        ],\n        \"semantic_type\": \"\",\n        \"description\": \"\"\n      }\n    }\n  ]\n}"
            }
          },
          "metadata": {},
          "execution_count": 7
        }
      ],
      "source": [
        "df.head().T"
      ]
    },
    {
      "cell_type": "code",
      "execution_count": null,
      "metadata": {
        "id": "bPbWLKk-cm51"
      },
      "outputs": [],
      "source": [
        "df = df.rename(columns={'Week No': 'WeekNo'})"
      ]
    },
    {
      "cell_type": "code",
      "source": [
        "\"\"\"\n",
        "I'm using this code to change some of the int64 columns\n",
        "into objects because they are ordinal values\n",
        "and I do not need to have them treated the same as\n",
        "continuous numeric variables.\n",
        "\"\"\"\n",
        "df['Day'] = df['Day'].astype('object')\n",
        "df['Hour'] = df['Hour'].astype('object')\n",
        "df['WeekNo'] = df['WeekNo'].astype('object')\n",
        "df['Priority_Number'] = df['Priority_Number'].astype('category')\n",
        "\n",
        "df['Response_Date'] = pd.to_datetime(df['Response_Date'], dayfirst=True)"
      ],
      "metadata": {
        "colab": {
          "base_uri": "https://localhost:8080/"
        },
        "id": "zlJtzd-8CTPK",
        "outputId": "e36e534f-3fab-4acf-c087-7cf8d021d8e5"
      },
      "execution_count": null,
      "outputs": [
        {
          "output_type": "stream",
          "name": "stderr",
          "text": [
            "<ipython-input-9-056bc9966c5c>:11: UserWarning: Parsing dates in %m/%d/%Y %H:%M format when dayfirst=True was specified. Pass `dayfirst=False` or specify a format to silence this warning.\n",
            "  df['Response_Date'] = pd.to_datetime(df['Response_Date'], dayfirst=True)\n"
          ]
        }
      ]
    },
    {
      "cell_type": "code",
      "source": [
        "\"\"\"\n",
        "Now I use this code to convert the object Dtype into a category Dtype\n",
        "This will be easier for creating good visuals later.\n",
        "\"\"\"\n",
        "for col in df.columns:\n",
        "    if df[col].dtype == 'object':\n",
        "        df[col] = df[col].astype('category')"
      ],
      "metadata": {
        "id": "_ep852_dFa3J"
      },
      "execution_count": null,
      "outputs": []
    },
    {
      "cell_type": "code",
      "source": [
        "df.describe()"
      ],
      "metadata": {
        "colab": {
          "base_uri": "https://localhost:8080/",
          "height": 300
        },
        "id": "VHhIGsGeFtf2",
        "outputId": "69ee3511-92a9-4179-e7e1-7060723e2837"
      },
      "execution_count": null,
      "outputs": [
        {
          "output_type": "execute_result",
          "data": {
            "text/plain": [
              "                       Response_Date  Priority_Number  TimeToQueue  \\\n",
              "count                          10000        10,000.00    10,000.00   \n",
              "mean   2024-03-03 01:40:45.462000128             2.53       596.20   \n",
              "min              2024-01-14 00:51:00             1.00         0.00   \n",
              "25%              2024-02-11 11:53:00             2.00        33.00   \n",
              "50%              2024-03-10 12:47:00             2.00        66.00   \n",
              "75%              2024-04-14 16:12:30             3.00       124.00   \n",
              "max              2024-04-20 23:38:00            10.00   100,685.00   \n",
              "std                              NaN             1.21     5,420.25   \n",
              "\n",
              "       TimeToDispatch  CallProcessTime  PhoneTime  EventTime  \n",
              "count       10,000.00        10,000.00  10,000.00  10,000.00  \n",
              "mean           897.76         1,493.96     311.33   6,894.00  \n",
              "min              1.00             2.00       0.00       5.00  \n",
              "25%             29.00            97.00     100.00   1,329.25  \n",
              "50%             94.00           203.00     177.00   3,079.00  \n",
              "75%            323.25           477.25     327.00   7,849.00  \n",
              "max         84,173.00       176,583.00   6,121.00 143,560.00  \n",
              "std          5,024.65         8,056.77     509.99  12,031.28  "
            ],
            "text/html": [
              "\n",
              "  <div id=\"df-aa811f32-4e48-4710-82f9-3160d0bdc611\" class=\"colab-df-container\">\n",
              "    <div>\n",
              "<style scoped>\n",
              "    .dataframe tbody tr th:only-of-type {\n",
              "        vertical-align: middle;\n",
              "    }\n",
              "\n",
              "    .dataframe tbody tr th {\n",
              "        vertical-align: top;\n",
              "    }\n",
              "\n",
              "    .dataframe thead th {\n",
              "        text-align: right;\n",
              "    }\n",
              "</style>\n",
              "<table border=\"1\" class=\"dataframe\">\n",
              "  <thead>\n",
              "    <tr style=\"text-align: right;\">\n",
              "      <th></th>\n",
              "      <th>Response_Date</th>\n",
              "      <th>Priority_Number</th>\n",
              "      <th>TimeToQueue</th>\n",
              "      <th>TimeToDispatch</th>\n",
              "      <th>CallProcessTime</th>\n",
              "      <th>PhoneTime</th>\n",
              "      <th>EventTime</th>\n",
              "    </tr>\n",
              "  </thead>\n",
              "  <tbody>\n",
              "    <tr>\n",
              "      <th>count</th>\n",
              "      <td>10000</td>\n",
              "      <td>10,000.00</td>\n",
              "      <td>10,000.00</td>\n",
              "      <td>10,000.00</td>\n",
              "      <td>10,000.00</td>\n",
              "      <td>10,000.00</td>\n",
              "      <td>10,000.00</td>\n",
              "    </tr>\n",
              "    <tr>\n",
              "      <th>mean</th>\n",
              "      <td>2024-03-03 01:40:45.462000128</td>\n",
              "      <td>2.53</td>\n",
              "      <td>596.20</td>\n",
              "      <td>897.76</td>\n",
              "      <td>1,493.96</td>\n",
              "      <td>311.33</td>\n",
              "      <td>6,894.00</td>\n",
              "    </tr>\n",
              "    <tr>\n",
              "      <th>min</th>\n",
              "      <td>2024-01-14 00:51:00</td>\n",
              "      <td>1.00</td>\n",
              "      <td>0.00</td>\n",
              "      <td>1.00</td>\n",
              "      <td>2.00</td>\n",
              "      <td>0.00</td>\n",
              "      <td>5.00</td>\n",
              "    </tr>\n",
              "    <tr>\n",
              "      <th>25%</th>\n",
              "      <td>2024-02-11 11:53:00</td>\n",
              "      <td>2.00</td>\n",
              "      <td>33.00</td>\n",
              "      <td>29.00</td>\n",
              "      <td>97.00</td>\n",
              "      <td>100.00</td>\n",
              "      <td>1,329.25</td>\n",
              "    </tr>\n",
              "    <tr>\n",
              "      <th>50%</th>\n",
              "      <td>2024-03-10 12:47:00</td>\n",
              "      <td>2.00</td>\n",
              "      <td>66.00</td>\n",
              "      <td>94.00</td>\n",
              "      <td>203.00</td>\n",
              "      <td>177.00</td>\n",
              "      <td>3,079.00</td>\n",
              "    </tr>\n",
              "    <tr>\n",
              "      <th>75%</th>\n",
              "      <td>2024-04-14 16:12:30</td>\n",
              "      <td>3.00</td>\n",
              "      <td>124.00</td>\n",
              "      <td>323.25</td>\n",
              "      <td>477.25</td>\n",
              "      <td>327.00</td>\n",
              "      <td>7,849.00</td>\n",
              "    </tr>\n",
              "    <tr>\n",
              "      <th>max</th>\n",
              "      <td>2024-04-20 23:38:00</td>\n",
              "      <td>10.00</td>\n",
              "      <td>100,685.00</td>\n",
              "      <td>84,173.00</td>\n",
              "      <td>176,583.00</td>\n",
              "      <td>6,121.00</td>\n",
              "      <td>143,560.00</td>\n",
              "    </tr>\n",
              "    <tr>\n",
              "      <th>std</th>\n",
              "      <td>NaN</td>\n",
              "      <td>1.21</td>\n",
              "      <td>5,420.25</td>\n",
              "      <td>5,024.65</td>\n",
              "      <td>8,056.77</td>\n",
              "      <td>509.99</td>\n",
              "      <td>12,031.28</td>\n",
              "    </tr>\n",
              "  </tbody>\n",
              "</table>\n",
              "</div>\n",
              "    <div class=\"colab-df-buttons\">\n",
              "\n",
              "  <div class=\"colab-df-container\">\n",
              "    <button class=\"colab-df-convert\" onclick=\"convertToInteractive('df-aa811f32-4e48-4710-82f9-3160d0bdc611')\"\n",
              "            title=\"Convert this dataframe to an interactive table.\"\n",
              "            style=\"display:none;\">\n",
              "\n",
              "  <svg xmlns=\"http://www.w3.org/2000/svg\" height=\"24px\" viewBox=\"0 -960 960 960\">\n",
              "    <path d=\"M120-120v-720h720v720H120Zm60-500h600v-160H180v160Zm220 220h160v-160H400v160Zm0 220h160v-160H400v160ZM180-400h160v-160H180v160Zm440 0h160v-160H620v160ZM180-180h160v-160H180v160Zm440 0h160v-160H620v160Z\"/>\n",
              "  </svg>\n",
              "    </button>\n",
              "\n",
              "  <style>\n",
              "    .colab-df-container {\n",
              "      display:flex;\n",
              "      gap: 12px;\n",
              "    }\n",
              "\n",
              "    .colab-df-convert {\n",
              "      background-color: #E8F0FE;\n",
              "      border: none;\n",
              "      border-radius: 50%;\n",
              "      cursor: pointer;\n",
              "      display: none;\n",
              "      fill: #1967D2;\n",
              "      height: 32px;\n",
              "      padding: 0 0 0 0;\n",
              "      width: 32px;\n",
              "    }\n",
              "\n",
              "    .colab-df-convert:hover {\n",
              "      background-color: #E2EBFA;\n",
              "      box-shadow: 0px 1px 2px rgba(60, 64, 67, 0.3), 0px 1px 3px 1px rgba(60, 64, 67, 0.15);\n",
              "      fill: #174EA6;\n",
              "    }\n",
              "\n",
              "    .colab-df-buttons div {\n",
              "      margin-bottom: 4px;\n",
              "    }\n",
              "\n",
              "    [theme=dark] .colab-df-convert {\n",
              "      background-color: #3B4455;\n",
              "      fill: #D2E3FC;\n",
              "    }\n",
              "\n",
              "    [theme=dark] .colab-df-convert:hover {\n",
              "      background-color: #434B5C;\n",
              "      box-shadow: 0px 1px 3px 1px rgba(0, 0, 0, 0.15);\n",
              "      filter: drop-shadow(0px 1px 2px rgba(0, 0, 0, 0.3));\n",
              "      fill: #FFFFFF;\n",
              "    }\n",
              "  </style>\n",
              "\n",
              "    <script>\n",
              "      const buttonEl =\n",
              "        document.querySelector('#df-aa811f32-4e48-4710-82f9-3160d0bdc611 button.colab-df-convert');\n",
              "      buttonEl.style.display =\n",
              "        google.colab.kernel.accessAllowed ? 'block' : 'none';\n",
              "\n",
              "      async function convertToInteractive(key) {\n",
              "        const element = document.querySelector('#df-aa811f32-4e48-4710-82f9-3160d0bdc611');\n",
              "        const dataTable =\n",
              "          await google.colab.kernel.invokeFunction('convertToInteractive',\n",
              "                                                    [key], {});\n",
              "        if (!dataTable) return;\n",
              "\n",
              "        const docLinkHtml = 'Like what you see? Visit the ' +\n",
              "          '<a target=\"_blank\" href=https://colab.research.google.com/notebooks/data_table.ipynb>data table notebook</a>'\n",
              "          + ' to learn more about interactive tables.';\n",
              "        element.innerHTML = '';\n",
              "        dataTable['output_type'] = 'display_data';\n",
              "        await google.colab.output.renderOutput(dataTable, element);\n",
              "        const docLink = document.createElement('div');\n",
              "        docLink.innerHTML = docLinkHtml;\n",
              "        element.appendChild(docLink);\n",
              "      }\n",
              "    </script>\n",
              "  </div>\n",
              "\n",
              "\n",
              "<div id=\"df-66e687da-c992-46ba-93a9-b7a2392e4adf\">\n",
              "  <button class=\"colab-df-quickchart\" onclick=\"quickchart('df-66e687da-c992-46ba-93a9-b7a2392e4adf')\"\n",
              "            title=\"Suggest charts\"\n",
              "            style=\"display:none;\">\n",
              "\n",
              "<svg xmlns=\"http://www.w3.org/2000/svg\" height=\"24px\"viewBox=\"0 0 24 24\"\n",
              "     width=\"24px\">\n",
              "    <g>\n",
              "        <path d=\"M19 3H5c-1.1 0-2 .9-2 2v14c0 1.1.9 2 2 2h14c1.1 0 2-.9 2-2V5c0-1.1-.9-2-2-2zM9 17H7v-7h2v7zm4 0h-2V7h2v10zm4 0h-2v-4h2v4z\"/>\n",
              "    </g>\n",
              "</svg>\n",
              "  </button>\n",
              "\n",
              "<style>\n",
              "  .colab-df-quickchart {\n",
              "      --bg-color: #E8F0FE;\n",
              "      --fill-color: #1967D2;\n",
              "      --hover-bg-color: #E2EBFA;\n",
              "      --hover-fill-color: #174EA6;\n",
              "      --disabled-fill-color: #AAA;\n",
              "      --disabled-bg-color: #DDD;\n",
              "  }\n",
              "\n",
              "  [theme=dark] .colab-df-quickchart {\n",
              "      --bg-color: #3B4455;\n",
              "      --fill-color: #D2E3FC;\n",
              "      --hover-bg-color: #434B5C;\n",
              "      --hover-fill-color: #FFFFFF;\n",
              "      --disabled-bg-color: #3B4455;\n",
              "      --disabled-fill-color: #666;\n",
              "  }\n",
              "\n",
              "  .colab-df-quickchart {\n",
              "    background-color: var(--bg-color);\n",
              "    border: none;\n",
              "    border-radius: 50%;\n",
              "    cursor: pointer;\n",
              "    display: none;\n",
              "    fill: var(--fill-color);\n",
              "    height: 32px;\n",
              "    padding: 0;\n",
              "    width: 32px;\n",
              "  }\n",
              "\n",
              "  .colab-df-quickchart:hover {\n",
              "    background-color: var(--hover-bg-color);\n",
              "    box-shadow: 0 1px 2px rgba(60, 64, 67, 0.3), 0 1px 3px 1px rgba(60, 64, 67, 0.15);\n",
              "    fill: var(--button-hover-fill-color);\n",
              "  }\n",
              "\n",
              "  .colab-df-quickchart-complete:disabled,\n",
              "  .colab-df-quickchart-complete:disabled:hover {\n",
              "    background-color: var(--disabled-bg-color);\n",
              "    fill: var(--disabled-fill-color);\n",
              "    box-shadow: none;\n",
              "  }\n",
              "\n",
              "  .colab-df-spinner {\n",
              "    border: 2px solid var(--fill-color);\n",
              "    border-color: transparent;\n",
              "    border-bottom-color: var(--fill-color);\n",
              "    animation:\n",
              "      spin 1s steps(1) infinite;\n",
              "  }\n",
              "\n",
              "  @keyframes spin {\n",
              "    0% {\n",
              "      border-color: transparent;\n",
              "      border-bottom-color: var(--fill-color);\n",
              "      border-left-color: var(--fill-color);\n",
              "    }\n",
              "    20% {\n",
              "      border-color: transparent;\n",
              "      border-left-color: var(--fill-color);\n",
              "      border-top-color: var(--fill-color);\n",
              "    }\n",
              "    30% {\n",
              "      border-color: transparent;\n",
              "      border-left-color: var(--fill-color);\n",
              "      border-top-color: var(--fill-color);\n",
              "      border-right-color: var(--fill-color);\n",
              "    }\n",
              "    40% {\n",
              "      border-color: transparent;\n",
              "      border-right-color: var(--fill-color);\n",
              "      border-top-color: var(--fill-color);\n",
              "    }\n",
              "    60% {\n",
              "      border-color: transparent;\n",
              "      border-right-color: var(--fill-color);\n",
              "    }\n",
              "    80% {\n",
              "      border-color: transparent;\n",
              "      border-right-color: var(--fill-color);\n",
              "      border-bottom-color: var(--fill-color);\n",
              "    }\n",
              "    90% {\n",
              "      border-color: transparent;\n",
              "      border-bottom-color: var(--fill-color);\n",
              "    }\n",
              "  }\n",
              "</style>\n",
              "\n",
              "  <script>\n",
              "    async function quickchart(key) {\n",
              "      const quickchartButtonEl =\n",
              "        document.querySelector('#' + key + ' button');\n",
              "      quickchartButtonEl.disabled = true;  // To prevent multiple clicks.\n",
              "      quickchartButtonEl.classList.add('colab-df-spinner');\n",
              "      try {\n",
              "        const charts = await google.colab.kernel.invokeFunction(\n",
              "            'suggestCharts', [key], {});\n",
              "      } catch (error) {\n",
              "        console.error('Error during call to suggestCharts:', error);\n",
              "      }\n",
              "      quickchartButtonEl.classList.remove('colab-df-spinner');\n",
              "      quickchartButtonEl.classList.add('colab-df-quickchart-complete');\n",
              "    }\n",
              "    (() => {\n",
              "      let quickchartButtonEl =\n",
              "        document.querySelector('#df-66e687da-c992-46ba-93a9-b7a2392e4adf button');\n",
              "      quickchartButtonEl.style.display =\n",
              "        google.colab.kernel.accessAllowed ? 'block' : 'none';\n",
              "    })();\n",
              "  </script>\n",
              "</div>\n",
              "\n",
              "    </div>\n",
              "  </div>\n"
            ],
            "application/vnd.google.colaboratory.intrinsic+json": {
              "type": "dataframe",
              "summary": "{\n  \"name\": \"df\",\n  \"rows\": 8,\n  \"fields\": [\n    {\n      \"column\": \"Response_Date\",\n      \"properties\": {\n        \"dtype\": \"date\",\n        \"min\": \"1970-01-01 00:00:00.000010\",\n        \"max\": \"2024-04-20 23:38:00\",\n        \"num_unique_values\": 7,\n        \"samples\": [\n          \"10000\",\n          \"2024-03-03 01:40:45.462000128\",\n          \"2024-04-14 16:12:30\"\n        ],\n        \"semantic_type\": \"\",\n        \"description\": \"\"\n      }\n    },\n    {\n      \"column\": \"Priority_Number\",\n      \"properties\": {\n        \"dtype\": \"number\",\n        \"std\": 3534.43666990992,\n        \"min\": 1.0,\n        \"max\": 10000.0,\n        \"num_unique_values\": 7,\n        \"samples\": [\n          10000.0,\n          2.534,\n          10.0\n        ],\n        \"semantic_type\": \"\",\n        \"description\": \"\"\n      }\n    },\n    {\n      \"column\": \"TimeToQueue\",\n      \"properties\": {\n        \"dtype\": \"number\",\n        \"std\": 34965.91965495732,\n        \"min\": 0.0,\n        \"max\": 100685.0,\n        \"num_unique_values\": 8,\n        \"samples\": [\n          596.2011,\n          124.0,\n          10000.0\n        ],\n        \"semantic_type\": \"\",\n        \"description\": \"\"\n      }\n    },\n    {\n      \"column\": \"TimeToDispatch\",\n      \"properties\": {\n        \"dtype\": \"number\",\n        \"std\": 29149.02077138979,\n        \"min\": 1.0,\n        \"max\": 84173.0,\n        \"num_unique_values\": 8,\n        \"samples\": [\n          897.7621,\n          323.25,\n          10000.0\n        ],\n        \"semantic_type\": \"\",\n        \"description\": \"\"\n      }\n    },\n    {\n      \"column\": \"CallProcessTime\",\n      \"properties\": {\n        \"dtype\": \"number\",\n        \"std\": 61530.63959272558,\n        \"min\": 2.0,\n        \"max\": 176583.0,\n        \"num_unique_values\": 8,\n        \"samples\": [\n          1493.9632,\n          477.25,\n          10000.0\n        ],\n        \"semantic_type\": \"\",\n        \"description\": \"\"\n      }\n    },\n    {\n      \"column\": \"PhoneTime\",\n      \"properties\": {\n        \"dtype\": \"number\",\n        \"std\": 3769.9520524306467,\n        \"min\": 0.0,\n        \"max\": 10000.0,\n        \"num_unique_values\": 8,\n        \"samples\": [\n          311.3261,\n          327.0,\n          10000.0\n        ],\n        \"semantic_type\": \"\",\n        \"description\": \"\"\n      }\n    },\n    {\n      \"column\": \"EventTime\",\n      \"properties\": {\n        \"dtype\": \"number\",\n        \"std\": 48855.69176508235,\n        \"min\": 5.0,\n        \"max\": 143560.0,\n        \"num_unique_values\": 8,\n        \"samples\": [\n          6894.0018,\n          7849.0,\n          10000.0\n        ],\n        \"semantic_type\": \"\",\n        \"description\": \"\"\n      }\n    }\n  ]\n}"
            }
          },
          "metadata": {},
          "execution_count": 11
        }
      ]
    },
    {
      "cell_type": "code",
      "source": [
        "df['Priority_Number'] = df['Priority_Number'].astype('category')"
      ],
      "metadata": {
        "id": "SiNu2b8AF6eF"
      },
      "execution_count": 12,
      "outputs": []
    },
    {
      "cell_type": "code",
      "source": [
        "df_int = df[['TimeToQueue','TimeToDispatch','CallProcessTime','PhoneTime','EventTime']]"
      ],
      "metadata": {
        "id": "_fKapOdoGMLJ"
      },
      "execution_count": 13,
      "outputs": []
    },
    {
      "cell_type": "code",
      "source": [
        "df_int.describe()"
      ],
      "metadata": {
        "colab": {
          "base_uri": "https://localhost:8080/",
          "height": 300
        },
        "id": "XWjd9EilGWRL",
        "outputId": "9f7930f5-db75-4045-bf42-c3d2d225b07a"
      },
      "execution_count": 14,
      "outputs": [
        {
          "output_type": "execute_result",
          "data": {
            "text/plain": [
              "       TimeToQueue  TimeToDispatch  CallProcessTime  PhoneTime  EventTime\n",
              "count    10,000.00       10,000.00        10,000.00  10,000.00  10,000.00\n",
              "mean        596.20          897.76         1,493.96     311.33   6,894.00\n",
              "std       5,420.25        5,024.65         8,056.77     509.99  12,031.28\n",
              "min           0.00            1.00             2.00       0.00       5.00\n",
              "25%          33.00           29.00            97.00     100.00   1,329.25\n",
              "50%          66.00           94.00           203.00     177.00   3,079.00\n",
              "75%         124.00          323.25           477.25     327.00   7,849.00\n",
              "max     100,685.00       84,173.00       176,583.00   6,121.00 143,560.00"
            ],
            "text/html": [
              "\n",
              "  <div id=\"df-6de1dea3-28d9-4f6d-bb35-247ae750bc58\" class=\"colab-df-container\">\n",
              "    <div>\n",
              "<style scoped>\n",
              "    .dataframe tbody tr th:only-of-type {\n",
              "        vertical-align: middle;\n",
              "    }\n",
              "\n",
              "    .dataframe tbody tr th {\n",
              "        vertical-align: top;\n",
              "    }\n",
              "\n",
              "    .dataframe thead th {\n",
              "        text-align: right;\n",
              "    }\n",
              "</style>\n",
              "<table border=\"1\" class=\"dataframe\">\n",
              "  <thead>\n",
              "    <tr style=\"text-align: right;\">\n",
              "      <th></th>\n",
              "      <th>TimeToQueue</th>\n",
              "      <th>TimeToDispatch</th>\n",
              "      <th>CallProcessTime</th>\n",
              "      <th>PhoneTime</th>\n",
              "      <th>EventTime</th>\n",
              "    </tr>\n",
              "  </thead>\n",
              "  <tbody>\n",
              "    <tr>\n",
              "      <th>count</th>\n",
              "      <td>10,000.00</td>\n",
              "      <td>10,000.00</td>\n",
              "      <td>10,000.00</td>\n",
              "      <td>10,000.00</td>\n",
              "      <td>10,000.00</td>\n",
              "    </tr>\n",
              "    <tr>\n",
              "      <th>mean</th>\n",
              "      <td>596.20</td>\n",
              "      <td>897.76</td>\n",
              "      <td>1,493.96</td>\n",
              "      <td>311.33</td>\n",
              "      <td>6,894.00</td>\n",
              "    </tr>\n",
              "    <tr>\n",
              "      <th>std</th>\n",
              "      <td>5,420.25</td>\n",
              "      <td>5,024.65</td>\n",
              "      <td>8,056.77</td>\n",
              "      <td>509.99</td>\n",
              "      <td>12,031.28</td>\n",
              "    </tr>\n",
              "    <tr>\n",
              "      <th>min</th>\n",
              "      <td>0.00</td>\n",
              "      <td>1.00</td>\n",
              "      <td>2.00</td>\n",
              "      <td>0.00</td>\n",
              "      <td>5.00</td>\n",
              "    </tr>\n",
              "    <tr>\n",
              "      <th>25%</th>\n",
              "      <td>33.00</td>\n",
              "      <td>29.00</td>\n",
              "      <td>97.00</td>\n",
              "      <td>100.00</td>\n",
              "      <td>1,329.25</td>\n",
              "    </tr>\n",
              "    <tr>\n",
              "      <th>50%</th>\n",
              "      <td>66.00</td>\n",
              "      <td>94.00</td>\n",
              "      <td>203.00</td>\n",
              "      <td>177.00</td>\n",
              "      <td>3,079.00</td>\n",
              "    </tr>\n",
              "    <tr>\n",
              "      <th>75%</th>\n",
              "      <td>124.00</td>\n",
              "      <td>323.25</td>\n",
              "      <td>477.25</td>\n",
              "      <td>327.00</td>\n",
              "      <td>7,849.00</td>\n",
              "    </tr>\n",
              "    <tr>\n",
              "      <th>max</th>\n",
              "      <td>100,685.00</td>\n",
              "      <td>84,173.00</td>\n",
              "      <td>176,583.00</td>\n",
              "      <td>6,121.00</td>\n",
              "      <td>143,560.00</td>\n",
              "    </tr>\n",
              "  </tbody>\n",
              "</table>\n",
              "</div>\n",
              "    <div class=\"colab-df-buttons\">\n",
              "\n",
              "  <div class=\"colab-df-container\">\n",
              "    <button class=\"colab-df-convert\" onclick=\"convertToInteractive('df-6de1dea3-28d9-4f6d-bb35-247ae750bc58')\"\n",
              "            title=\"Convert this dataframe to an interactive table.\"\n",
              "            style=\"display:none;\">\n",
              "\n",
              "  <svg xmlns=\"http://www.w3.org/2000/svg\" height=\"24px\" viewBox=\"0 -960 960 960\">\n",
              "    <path d=\"M120-120v-720h720v720H120Zm60-500h600v-160H180v160Zm220 220h160v-160H400v160Zm0 220h160v-160H400v160ZM180-400h160v-160H180v160Zm440 0h160v-160H620v160ZM180-180h160v-160H180v160Zm440 0h160v-160H620v160Z\"/>\n",
              "  </svg>\n",
              "    </button>\n",
              "\n",
              "  <style>\n",
              "    .colab-df-container {\n",
              "      display:flex;\n",
              "      gap: 12px;\n",
              "    }\n",
              "\n",
              "    .colab-df-convert {\n",
              "      background-color: #E8F0FE;\n",
              "      border: none;\n",
              "      border-radius: 50%;\n",
              "      cursor: pointer;\n",
              "      display: none;\n",
              "      fill: #1967D2;\n",
              "      height: 32px;\n",
              "      padding: 0 0 0 0;\n",
              "      width: 32px;\n",
              "    }\n",
              "\n",
              "    .colab-df-convert:hover {\n",
              "      background-color: #E2EBFA;\n",
              "      box-shadow: 0px 1px 2px rgba(60, 64, 67, 0.3), 0px 1px 3px 1px rgba(60, 64, 67, 0.15);\n",
              "      fill: #174EA6;\n",
              "    }\n",
              "\n",
              "    .colab-df-buttons div {\n",
              "      margin-bottom: 4px;\n",
              "    }\n",
              "\n",
              "    [theme=dark] .colab-df-convert {\n",
              "      background-color: #3B4455;\n",
              "      fill: #D2E3FC;\n",
              "    }\n",
              "\n",
              "    [theme=dark] .colab-df-convert:hover {\n",
              "      background-color: #434B5C;\n",
              "      box-shadow: 0px 1px 3px 1px rgba(0, 0, 0, 0.15);\n",
              "      filter: drop-shadow(0px 1px 2px rgba(0, 0, 0, 0.3));\n",
              "      fill: #FFFFFF;\n",
              "    }\n",
              "  </style>\n",
              "\n",
              "    <script>\n",
              "      const buttonEl =\n",
              "        document.querySelector('#df-6de1dea3-28d9-4f6d-bb35-247ae750bc58 button.colab-df-convert');\n",
              "      buttonEl.style.display =\n",
              "        google.colab.kernel.accessAllowed ? 'block' : 'none';\n",
              "\n",
              "      async function convertToInteractive(key) {\n",
              "        const element = document.querySelector('#df-6de1dea3-28d9-4f6d-bb35-247ae750bc58');\n",
              "        const dataTable =\n",
              "          await google.colab.kernel.invokeFunction('convertToInteractive',\n",
              "                                                    [key], {});\n",
              "        if (!dataTable) return;\n",
              "\n",
              "        const docLinkHtml = 'Like what you see? Visit the ' +\n",
              "          '<a target=\"_blank\" href=https://colab.research.google.com/notebooks/data_table.ipynb>data table notebook</a>'\n",
              "          + ' to learn more about interactive tables.';\n",
              "        element.innerHTML = '';\n",
              "        dataTable['output_type'] = 'display_data';\n",
              "        await google.colab.output.renderOutput(dataTable, element);\n",
              "        const docLink = document.createElement('div');\n",
              "        docLink.innerHTML = docLinkHtml;\n",
              "        element.appendChild(docLink);\n",
              "      }\n",
              "    </script>\n",
              "  </div>\n",
              "\n",
              "\n",
              "<div id=\"df-d41b7de7-9206-48a8-b351-2cac98930337\">\n",
              "  <button class=\"colab-df-quickchart\" onclick=\"quickchart('df-d41b7de7-9206-48a8-b351-2cac98930337')\"\n",
              "            title=\"Suggest charts\"\n",
              "            style=\"display:none;\">\n",
              "\n",
              "<svg xmlns=\"http://www.w3.org/2000/svg\" height=\"24px\"viewBox=\"0 0 24 24\"\n",
              "     width=\"24px\">\n",
              "    <g>\n",
              "        <path d=\"M19 3H5c-1.1 0-2 .9-2 2v14c0 1.1.9 2 2 2h14c1.1 0 2-.9 2-2V5c0-1.1-.9-2-2-2zM9 17H7v-7h2v7zm4 0h-2V7h2v10zm4 0h-2v-4h2v4z\"/>\n",
              "    </g>\n",
              "</svg>\n",
              "  </button>\n",
              "\n",
              "<style>\n",
              "  .colab-df-quickchart {\n",
              "      --bg-color: #E8F0FE;\n",
              "      --fill-color: #1967D2;\n",
              "      --hover-bg-color: #E2EBFA;\n",
              "      --hover-fill-color: #174EA6;\n",
              "      --disabled-fill-color: #AAA;\n",
              "      --disabled-bg-color: #DDD;\n",
              "  }\n",
              "\n",
              "  [theme=dark] .colab-df-quickchart {\n",
              "      --bg-color: #3B4455;\n",
              "      --fill-color: #D2E3FC;\n",
              "      --hover-bg-color: #434B5C;\n",
              "      --hover-fill-color: #FFFFFF;\n",
              "      --disabled-bg-color: #3B4455;\n",
              "      --disabled-fill-color: #666;\n",
              "  }\n",
              "\n",
              "  .colab-df-quickchart {\n",
              "    background-color: var(--bg-color);\n",
              "    border: none;\n",
              "    border-radius: 50%;\n",
              "    cursor: pointer;\n",
              "    display: none;\n",
              "    fill: var(--fill-color);\n",
              "    height: 32px;\n",
              "    padding: 0;\n",
              "    width: 32px;\n",
              "  }\n",
              "\n",
              "  .colab-df-quickchart:hover {\n",
              "    background-color: var(--hover-bg-color);\n",
              "    box-shadow: 0 1px 2px rgba(60, 64, 67, 0.3), 0 1px 3px 1px rgba(60, 64, 67, 0.15);\n",
              "    fill: var(--button-hover-fill-color);\n",
              "  }\n",
              "\n",
              "  .colab-df-quickchart-complete:disabled,\n",
              "  .colab-df-quickchart-complete:disabled:hover {\n",
              "    background-color: var(--disabled-bg-color);\n",
              "    fill: var(--disabled-fill-color);\n",
              "    box-shadow: none;\n",
              "  }\n",
              "\n",
              "  .colab-df-spinner {\n",
              "    border: 2px solid var(--fill-color);\n",
              "    border-color: transparent;\n",
              "    border-bottom-color: var(--fill-color);\n",
              "    animation:\n",
              "      spin 1s steps(1) infinite;\n",
              "  }\n",
              "\n",
              "  @keyframes spin {\n",
              "    0% {\n",
              "      border-color: transparent;\n",
              "      border-bottom-color: var(--fill-color);\n",
              "      border-left-color: var(--fill-color);\n",
              "    }\n",
              "    20% {\n",
              "      border-color: transparent;\n",
              "      border-left-color: var(--fill-color);\n",
              "      border-top-color: var(--fill-color);\n",
              "    }\n",
              "    30% {\n",
              "      border-color: transparent;\n",
              "      border-left-color: var(--fill-color);\n",
              "      border-top-color: var(--fill-color);\n",
              "      border-right-color: var(--fill-color);\n",
              "    }\n",
              "    40% {\n",
              "      border-color: transparent;\n",
              "      border-right-color: var(--fill-color);\n",
              "      border-top-color: var(--fill-color);\n",
              "    }\n",
              "    60% {\n",
              "      border-color: transparent;\n",
              "      border-right-color: var(--fill-color);\n",
              "    }\n",
              "    80% {\n",
              "      border-color: transparent;\n",
              "      border-right-color: var(--fill-color);\n",
              "      border-bottom-color: var(--fill-color);\n",
              "    }\n",
              "    90% {\n",
              "      border-color: transparent;\n",
              "      border-bottom-color: var(--fill-color);\n",
              "    }\n",
              "  }\n",
              "</style>\n",
              "\n",
              "  <script>\n",
              "    async function quickchart(key) {\n",
              "      const quickchartButtonEl =\n",
              "        document.querySelector('#' + key + ' button');\n",
              "      quickchartButtonEl.disabled = true;  // To prevent multiple clicks.\n",
              "      quickchartButtonEl.classList.add('colab-df-spinner');\n",
              "      try {\n",
              "        const charts = await google.colab.kernel.invokeFunction(\n",
              "            'suggestCharts', [key], {});\n",
              "      } catch (error) {\n",
              "        console.error('Error during call to suggestCharts:', error);\n",
              "      }\n",
              "      quickchartButtonEl.classList.remove('colab-df-spinner');\n",
              "      quickchartButtonEl.classList.add('colab-df-quickchart-complete');\n",
              "    }\n",
              "    (() => {\n",
              "      let quickchartButtonEl =\n",
              "        document.querySelector('#df-d41b7de7-9206-48a8-b351-2cac98930337 button');\n",
              "      quickchartButtonEl.style.display =\n",
              "        google.colab.kernel.accessAllowed ? 'block' : 'none';\n",
              "    })();\n",
              "  </script>\n",
              "</div>\n",
              "\n",
              "    </div>\n",
              "  </div>\n"
            ],
            "application/vnd.google.colaboratory.intrinsic+json": {
              "type": "dataframe",
              "summary": "{\n  \"name\": \"df_int\",\n  \"rows\": 8,\n  \"fields\": [\n    {\n      \"column\": \"TimeToQueue\",\n      \"properties\": {\n        \"dtype\": \"number\",\n        \"std\": 34965.91965495732,\n        \"min\": 0.0,\n        \"max\": 100685.0,\n        \"num_unique_values\": 8,\n        \"samples\": [\n          596.2011,\n          66.0,\n          10000.0\n        ],\n        \"semantic_type\": \"\",\n        \"description\": \"\"\n      }\n    },\n    {\n      \"column\": \"TimeToDispatch\",\n      \"properties\": {\n        \"dtype\": \"number\",\n        \"std\": 29149.020771389798,\n        \"min\": 1.0,\n        \"max\": 84173.0,\n        \"num_unique_values\": 8,\n        \"samples\": [\n          897.7621,\n          94.0,\n          10000.0\n        ],\n        \"semantic_type\": \"\",\n        \"description\": \"\"\n      }\n    },\n    {\n      \"column\": \"CallProcessTime\",\n      \"properties\": {\n        \"dtype\": \"number\",\n        \"std\": 61530.63959272558,\n        \"min\": 2.0,\n        \"max\": 176583.0,\n        \"num_unique_values\": 8,\n        \"samples\": [\n          1493.9632,\n          203.0,\n          10000.0\n        ],\n        \"semantic_type\": \"\",\n        \"description\": \"\"\n      }\n    },\n    {\n      \"column\": \"PhoneTime\",\n      \"properties\": {\n        \"dtype\": \"number\",\n        \"std\": 3769.9520524306463,\n        \"min\": 0.0,\n        \"max\": 10000.0,\n        \"num_unique_values\": 8,\n        \"samples\": [\n          311.3261,\n          177.0,\n          10000.0\n        ],\n        \"semantic_type\": \"\",\n        \"description\": \"\"\n      }\n    },\n    {\n      \"column\": \"EventTime\",\n      \"properties\": {\n        \"dtype\": \"number\",\n        \"std\": 48855.69176508235,\n        \"min\": 5.0,\n        \"max\": 143560.0,\n        \"num_unique_values\": 8,\n        \"samples\": [\n          6894.0018,\n          3079.0,\n          10000.0\n        ],\n        \"semantic_type\": \"\",\n        \"description\": \"\"\n      }\n    }\n  ]\n}"
            }
          },
          "metadata": {},
          "execution_count": 14
        }
      ]
    },
    {
      "cell_type": "code",
      "source": [
        "for column in df_int.columns:\n",
        "    skew_col = round(df_int[column].skew(), 2)\n",
        "    kurt_col = round(df_int[column].kurtosis(), 2)\n",
        "    if skew_col < 0 and kurt_col > 3:\n",
        "        print(f\"{column}: skewness = {skew_col}, kurtosis = {kurt_col}\\n {column} is left-tailed and leptokurtic.\\n\")\n",
        "    elif skew_col < 0 and kurt_col == 3:\n",
        "        print(f\"{column}: skewness = {skew_col}, kurtosis = {kurt_col}\\n {column} is left-tailed and mesokurtic.\\n\")\n",
        "    elif skew_col < 0 and kurt_col < 3:\n",
        "        print(f\"{column}: skewness = {skew_col}, kurtosis = {kurt_col}\\n {column} is left-tailed and platykurtic.\\n\")\n",
        "    elif skew_col > 0 and kurt_col > 3:\n",
        "        print(f\"{column}: skewness = {skew_col}, kurtosis = {kurt_col}\\n {column} is right-tailed and leptokurtic.\\n\")\n",
        "    elif skew_col > 0 and kurt_col == 3:\n",
        "        print(f\"{column}: skewness = {skew_col}, kurtosis = {kurt_col}\\n {column} is right-tailed and mesokurtic.\\n\")\n",
        "    elif skew_col > 0 and kurt_col < 3:\n",
        "        print(f\"{column}: skewness = {skew_col}, kurtosis = {kurt_col}\\n {column} is right-tailed and platykurtic.\\n\")\n",
        "    elif skew_col == 0 and kurt_col > 3:\n",
        "        print(f\"{column}: skewness = {skew_col}, kurtosis = {kurt_col}\\n {column} is symmetrical and leptokurtic.\\n\")\n",
        "    elif skew_col == 0 and kurt_col < 3:\n",
        "        print(f\"{column}: skewness = {skew_col}, kurtosis = {kurt_col}\\n {column} is symmetrical and platykurtic.\\n\")\n",
        "    else:\n",
        "        print(f\"{column}: skewness = {skew_col}, kurtosis = {kurt_col}\\n {column} is Gaussian.\\n\")"
      ],
      "metadata": {
        "colab": {
          "base_uri": "https://localhost:8080/"
        },
        "id": "-3z8-YdQGgq0",
        "outputId": "644cc0f3-7054-471e-bbae-ee3d3013f32e"
      },
      "execution_count": 15,
      "outputs": [
        {
          "output_type": "stream",
          "name": "stdout",
          "text": [
            "TimeToQueue: skewness = 14.04, kurtosis = 213.02\n",
            " TimeToQueue is right-tailed and leptokurtic.\n",
            "\n",
            "TimeToDispatch: skewness = 11.85, kurtosis = 156.7\n",
            " TimeToDispatch is right-tailed and leptokurtic.\n",
            "\n",
            "CallProcessTime: skewness = 11.01, kurtosis = 143.61\n",
            " CallProcessTime is right-tailed and leptokurtic.\n",
            "\n",
            "PhoneTime: skewness = 5.87, kurtosis = 46.14\n",
            " PhoneTime is right-tailed and leptokurtic.\n",
            "\n",
            "EventTime: skewness = 6.02, kurtosis = 50.91\n",
            " EventTime is right-tailed and leptokurtic.\n",
            "\n"
          ]
        }
      ]
    },
    {
      "cell_type": "code",
      "source": [
        "def test_normalcy(df, column):\n",
        "    print(f\"{column}:\\n\")\n",
        "    qqplot(df[column], line='s')\n",
        "    plt.show()\n",
        "\n",
        "    stat, p = ss.kstest(df[column], 'norm')\n",
        "    print('Statistics = %.3f, p = %.3f' % (stat, p))\n",
        "    alpha = 0.05\n",
        "    if p > alpha:\n",
        "        print('Sample looks Gaussian (fail to reject H0)')\n",
        "    else:\n",
        "        print('Sample does not look Gaussian (reject H0)\\n')"
      ],
      "metadata": {
        "id": "faVtqXqWHWvq"
      },
      "execution_count": 16,
      "outputs": []
    },
    {
      "cell_type": "code",
      "source": [
        "test_normalcy(df, 'TimeToQueue')"
      ],
      "metadata": {
        "colab": {
          "base_uri": "https://localhost:8080/",
          "height": 540
        },
        "id": "JGPYSlHbHg-7",
        "outputId": "cdb83b7d-c1ec-48c6-a83e-703ba0ecb2ff"
      },
      "execution_count": 17,
      "outputs": [
        {
          "output_type": "stream",
          "name": "stdout",
          "text": [
            "TimeToQueue:\n",
            "\n"
          ]
        },
        {
          "output_type": "display_data",
          "data": {
            "text/plain": [
              "<Figure size 640x480 with 1 Axes>"
            ],
            "image/png": "[encoded data removed]"
          },
          "metadata": {}
        },
        {
          "output_type": "stream",
          "name": "stdout",
          "text": [
            "Statistics = 0.952, p = 0.000\n",
            "Sample does not look Gaussian (reject H0)\n",
            "\n"
          ]
        }
      ]
    },
    {
      "cell_type": "code",
      "source": [
        "test_normalcy(df, 'TimeToDispatch')"
      ],
      "metadata": {
        "colab": {
          "base_uri": "https://localhost:8080/",
          "height": 540
        },
        "id": "D8FQ-6f0HpoV",
        "outputId": "862f9484-08a8-433b-fd87-06e4947c880f"
      },
      "execution_count": 18,
      "outputs": [
        {
          "output_type": "stream",
          "name": "stdout",
          "text": [
            "TimeToDispatch:\n",
            "\n"
          ]
        },
        {
          "output_type": "display_data",
          "data": {
            "text/plain": [
              "<Figure size 640x480 with 1 Axes>"
            ],
            "image/png": "[encoded data removed]"
          },
          "metadata": {}
        },
        {
          "output_type": "stream",
          "name": "stdout",
          "text": [
            "Statistics = 0.974, p = 0.000\n",
            "Sample does not look Gaussian (reject H0)\n",
            "\n"
          ]
        }
      ]
    },
    {
      "cell_type": "code",
      "source": [
        "test_normalcy(df, 'CallProcessTime')"
      ],
      "metadata": {
        "colab": {
          "base_uri": "https://localhost:8080/",
          "height": 540
        },
        "id": "Mq-T8x5GHun3",
        "outputId": "5de68585-253c-4d3a-df6c-5a5ae4d91cf0"
      },
      "execution_count": 19,
      "outputs": [
        {
          "output_type": "stream",
          "name": "stdout",
          "text": [
            "CallProcessTime:\n",
            "\n"
          ]
        },
        {
          "output_type": "display_data",
          "data": {
            "text/plain": [
              "<Figure size 640x480 with 1 Axes>"
            ],
            "image/png": "[encoded data removed]"
          },
          "metadata": {}
        },
        {
          "output_type": "stream",
          "name": "stdout",
          "text": [
            "Statistics = 0.998, p = 0.000\n",
            "Sample does not look Gaussian (reject H0)\n",
            "\n"
          ]
        }
      ]
    },
    {
      "cell_type": "code",
      "source": [
        "test_normalcy(df, 'PhoneTime')"
      ],
      "metadata": {
        "colab": {
          "base_uri": "https://localhost:8080/",
          "height": 540
        },
        "id": "op5YOzkzH3lp",
        "outputId": "94e2ed62-a13b-44e2-a6b9-31f8bb5cadce"
      },
      "execution_count": 20,
      "outputs": [
        {
          "output_type": "stream",
          "name": "stdout",
          "text": [
            "PhoneTime:\n",
            "\n"
          ]
        },
        {
          "output_type": "display_data",
          "data": {
            "text/plain": [
              "<Figure size 640x480 with 1 Axes>"
            ],
            "image/png": "[encoded data removed]"
          },
          "metadata": {}
        },
        {
          "output_type": "stream",
          "name": "stdout",
          "text": [
            "Statistics = 0.938, p = 0.000\n",
            "Sample does not look Gaussian (reject H0)\n",
            "\n"
          ]
        }
      ]
    },
    {
      "cell_type": "code",
      "source": [
        "test_normalcy(df, 'EventTime')"
      ],
      "metadata": {
        "colab": {
          "base_uri": "https://localhost:8080/",
          "height": 541
        },
        "id": "1EzooIitH_YB",
        "outputId": "0a702614-966f-458b-b963-41fc9fa58378"
      },
      "execution_count": 21,
      "outputs": [
        {
          "output_type": "stream",
          "name": "stdout",
          "text": [
            "EventTime:\n",
            "\n"
          ]
        },
        {
          "output_type": "display_data",
          "data": {
            "text/plain": [
              "<Figure size 640x480 with 1 Axes>"
            ],
            "image/png": "[encoded data removed]"
          },
          "metadata": {}
        },
        {
          "output_type": "stream",
          "name": "stdout",
          "text": [
            "Statistics = 1.000, p = 0.000\n",
            "Sample does not look Gaussian (reject H0)\n",
            "\n"
          ]
        }
      ]
    },
    {
      "cell_type": "code",
      "source": [
        "plt.hist(df['TimeToQueue'], bins=50, color=\"#1C5789\", edgecolor='midnightblue')\n",
        "plt.xlabel('Time To Queue in Seconds')\n",
        "plt.ylabel('Frequency')\n",
        "plt.title('Histogram of Time from Call Start to Entry to Dispatch Queue')\n",
        "plt.show()"
      ],
      "metadata": {
        "colab": {
          "base_uri": "https://localhost:8080/",
          "height": 472
        },
        "id": "sFUV1Ea7IF8N",
        "outputId": "c0201920-3189-4fa6-abdc-9809e7b14735"
      },
      "execution_count": 24,
      "outputs": [
        {
          "output_type": "display_data",
          "data": {
            "text/plain": [
              "<Figure size 640x480 with 1 Axes>"
            ],
            "image/png": "[encoded data removed]"
          },
          "metadata": {}
        }
      ]
    },
    {
      "cell_type": "code",
      "source": [
        "plt.hist(df['TimeToDispatch'], bins=50, color=\"#1C5789\", edgecolor='midnightblue')\n",
        "plt.xlabel('Time To Dispatch in Seconds')\n",
        "plt.ylabel('Frequency')\n",
        "plt.title('Histogram of Time from Queue Entry to First Dispatch')\n",
        "plt.show()"
      ],
      "metadata": {
        "colab": {
          "base_uri": "https://localhost:8080/",
          "height": 472
        },
        "id": "LTKQdTUtJD7u",
        "outputId": "e671e0db-bd42-405e-b217-f50599f85f9b"
      },
      "execution_count": 25,
      "outputs": [
        {
          "output_type": "display_data",
          "data": {
            "text/plain": [
              "<Figure size 640x480 with 1 Axes>"
            ],
            "image/png": "[encoded data removed]"
          },
          "metadata": {}
        }
      ]
    },
    {
      "cell_type": "code",
      "source": [
        "\"\"\"\n",
        "From this point, we can now separate the data multiple ways to drill into the most interesting points.\n",
        "There will be a lot of code to do that.\n",
        "There will also be a section for visualization because, a picture is worth a thousand words.\n",
        "\"\"\"\n",
        "ax = sns.countplot(x='DOW', data=df)\n",
        "ax.bar_label(ax.containers[0])"
      ],
      "metadata": {
        "colab": {
          "base_uri": "https://localhost:8080/",
          "height": 580
        },
        "id": "uktEt0jfJq_F",
        "outputId": "65ef33c4-ad00-49b3-95f9-c39b05b3d02a"
      },
      "execution_count": 26,
      "outputs": [
        {
          "output_type": "execute_result",
          "data": {
            "text/plain": [
              "[Text(0, 0, '1464'),\n",
              " Text(0, 0, '1455'),\n",
              " Text(0, 0, '1236'),\n",
              " Text(0, 0, '1461'),\n",
              " Text(0, 0, '1531'),\n",
              " Text(0, 0, '1370'),\n",
              " Text(0, 0, '1483')]"
            ]
          },
          "metadata": {},
          "execution_count": 26
        },
        {
          "output_type": "display_data",
          "data": {
            "text/plain": [
              "<Figure size 640x480 with 1 Axes>"
            ],
            "image/png": "[encoded data removed]"
          },
          "metadata": {}
        }
      ]
    },
    {
      "cell_type": "code",
      "source": [
        "\"\"\"\n",
        "From this point, we can now separate the data multiple ways to drill into the most interesting points.\n",
        "There will be a lot of code to do that.\n",
        "There will also be a section for visualization because, a picture is worth a thousand words.\n",
        "\"\"\"\n",
        "ax = sns.countplot(x='Agency', data=df)\n",
        "ax.bar_label(ax.containers[0])"
      ],
      "metadata": {
        "colab": {
          "base_uri": "https://localhost:8080/",
          "height": 467
        },
        "id": "qGAEtD3zJ5Pg",
        "outputId": "d2f280fa-32ce-4ac9-f0e1-1a08efea7a74"
      },
      "execution_count": 27,
      "outputs": [
        {
          "output_type": "execute_result",
          "data": {
            "text/plain": [
              "[Text(0, 0, '1055'), Text(0, 0, '494'), Text(0, 0, '8451')]"
            ]
          },
          "metadata": {},
          "execution_count": 27
        },
        {
          "output_type": "display_data",
          "data": {
            "text/plain": [
              "<Figure size 640x480 with 1 Axes>"
            ],
            "image/png": "[encoded data removed]"
          },
          "metadata": {}
        }
      ]
    }
  ],
  "metadata": {
    "colab": {
      "provenance": [],
      "mount_file_id": "1DDA8Z0-vliKbZBjBjYzaRndu_7sns69p",
      "authorship_tag": "ABX9TyO1HqOH7exo6qT1daDgl3p7",
      "include_colab_link": true
    },
    "kernelspec": {
      "display_name": "Python 3",
      "name": "python3"
    },
    "language_info": {
      "name": "python"
    }
  },
  "nbformat": 4,
  "nbformat_minor": 0
}